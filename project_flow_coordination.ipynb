{
 "cells": [
  {
   "cell_type": "markdown",
   "metadata": {},
   "source": [
    "| 모델              | 정확도 (Accuracy) | 추론 속도 (ms/이미지) | 모델 크기 (MB) | 학습 시간 (초/Epoch) |\n",
    "|-------------------|-------------------|-----------------------|----------------|----------------------|\n",
    "| ResNet-50         | 76%              | 12ms                 | 25MB           | 50s                 |\n",
    "| MobileNetV2       | 74%              | 5ms                  | 3.5MB          | 30s                 |\n",
    "| Vision Transformer| 78%              | 25ms                 | 80MB           | 120s                |\n"
   ]
  },
  {
   "cell_type": "code",
   "execution_count": null,
   "metadata": {},
   "outputs": [],
   "source": []
  }
 ],
 "metadata": {
  "language_info": {
   "name": "python"
  }
 },
 "nbformat": 4,
 "nbformat_minor": 2
}
